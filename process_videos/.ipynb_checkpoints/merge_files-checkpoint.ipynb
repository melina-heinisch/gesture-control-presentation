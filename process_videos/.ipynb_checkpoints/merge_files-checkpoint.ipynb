{
 "cells": [
  {
   "cell_type": "code",
   "execution_count": 1,
   "id": "2ea9b3c8",
   "metadata": {},
   "outputs": [],
   "source": [
    "import pandas as pd\n",
    "\n",
    "# You need to change 3 parts for each gesture:\n",
    "# Frames File path, Elan file path and name of the final file"
   ]
  },
  {
   "cell_type": "code",
   "execution_count": 18,
   "id": "f963d472",
   "metadata": {},
   "outputs": [
    {
     "name": "stderr",
     "output_type": "stream",
     "text": [
      "C:\\Users\\melin\\AppData\\Local\\Temp\\ipykernel_22940\\1877174111.py:27: FutureWarning: The behavior of .astype from timedelta64[ns] to int32 is deprecated. In a future version, this astype will return exactly the specified dtype instead of int64, and will raise if that conversion overflows.\n",
      "  frames.index = frames.index.astype(int) // 1_000_000  # convert index back to integers, so it looks nicer in CSV\n"
     ]
    }
   ],
   "source": [
    "FRAMES_FILE_PATH = \"C:/yourPathHere/up.csv\"\n",
    "ELAN_ANNOTATION_FILE_PATH = \"C:/yourPathHere/up.txt\"\n",
    "\n",
    "frames = pd.read_csv(FRAMES_FILE_PATH)\n",
    "\n",
    "# set timestamp column as index, so we can do timerange based selections\n",
    "frames[\"timestamp\"] = pd.to_timedelta(frames[\"timestamp\"], unit=\"ms\")\n",
    "frames = frames.set_index(\"timestamp\")\n",
    "frames.index = frames.index.rename(\"timestamp\")\n",
    "\n",
    "\n",
    "# the default label will be 'idle'\n",
    "frames[\"ground_truth\"] = \"idle\"\n",
    "\n",
    "# read the ELAN file as CSV; only read the relevant columns (specified by `usecols`)\n",
    "annotations = pd.read_csv(ELAN_ANNOTATION_FILE_PATH, sep=\"\\t\", header=None, usecols=[3, 5, 8], names=[\"start\", \"end\", \"label\"])\n",
    "\n",
    "# convert start and end timestamps into a datetime-datatype – this is important for the next step\n",
    "annotations[\"start\"] = pd.to_timedelta(annotations[\"start\"], unit=\"s\")\n",
    "annotations[\"end\"]   = pd.to_timedelta(annotations[\"end\"], unit=\"s\")\n",
    "\n",
    "for idx, ann in annotations.iterrows():\n",
    "    annotated_frames = (frames.index >= ann[\"start\"]) & (frames.index <= ann[\"end\"])\n",
    "    frames.loc[annotated_frames, \"ground_truth\"] = ann[\"label\"]\n",
    "\n",
    "\n",
    "frames.index = frames.index.astype(int) // 1_000_000  # convert index back to integers, so it looks nicer in CSV\n",
    "\n",
    "# save all data with the new ground_truth column into a new file:\n",
    "frames.to_csv(\"C:/yourPathHere/up_with_ground_truth.csv\", index=True)"
   ]
  },
  {
   "cell_type": "code",
   "execution_count": null,
   "id": "d74887b4",
   "metadata": {},
   "outputs": [],
   "source": []
  }
 ],
 "metadata": {
  "kernelspec": {
   "display_name": "Python 3 (ipykernel)",
   "language": "python",
   "name": "python3"
  },
  "language_info": {
   "codemirror_mode": {
    "name": "ipython",
    "version": 3
   },
   "file_extension": ".py",
   "mimetype": "text/x-python",
   "name": "python",
   "nbconvert_exporter": "python",
   "pygments_lexer": "ipython3",
   "version": "3.9.4"
  }
 },
 "nbformat": 4,
 "nbformat_minor": 5
}
