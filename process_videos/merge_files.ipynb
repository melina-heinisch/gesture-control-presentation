{
 "cells": [
  {
   "cell_type": "code",
   "execution_count": 1,
   "id": "2ea9b3c8",
   "metadata": {},
   "outputs": [],
   "source": [
    "import pandas as pd\n",
    "\n",
    "# You need to change 3 parts for each gesture:\n",
    "# Frames File path, Elan file path and name of the final file"
   ]
  },
  {
   "cell_type": "code",
   "execution_count": 2,
   "id": "f963d472",
   "metadata": {},
   "outputs": [],
   "source": [
    "\n",
    "\n",
    "def make_csv_with_ground_truth(frames_file_path, elan_annotation_file_path, new_file_path):\n",
    "    frames = pd.read_csv(frames_file_path)\n",
    "\n",
    "# set timestamp column as index, so we can do timerange based selections\n",
    "    frames[\"timestamp\"] = pd.to_timedelta(frames[\"timestamp\"], unit=\"ms\")\n",
    "    frames = frames.set_index(\"timestamp\")\n",
    "    frames.index = frames.index.rename(\"timestamp\")\n",
    "\n",
    "\n",
    "# the default label will be 'idle'\n",
    "    frames[\"ground_truth\"] = \"idle\"\n",
    "\n",
    "# read the ELAN file as CSV; only read the relevant columns (specified by `usecols`)\n",
    "    annotations = pd.read_csv(elan_annotation_file_path, sep=\"\\t\", header=None, usecols=[3, 5, 8], names=[\"start\", \"end\", \"label\"])\n",
    "\n",
    "# convert start and end timestamps into a datetime-datatype – this is important for the next step\n",
    "    annotations[\"start\"] = pd.to_timedelta(annotations[\"start\"], unit=\"s\")\n",
    "    annotations[\"end\"]   = pd.to_timedelta(annotations[\"end\"], unit=\"s\")\n",
    "\n",
    "    for idx, ann in annotations.iterrows():\n",
    "        annotated_frames = (frames.index >= ann[\"start\"]) & (frames.index <= ann[\"end\"])\n",
    "        frames.loc[annotated_frames, \"ground_truth\"] = ann[\"label\"]\n",
    "\n",
    "\n",
    "    frames.index = frames.index.astype(int) // 1_000_000  # convert index back to integers, so it looks nicer in CSV\n",
    "\n",
    "# save all data with the new ground_truth column into a new file:\n",
    "    frames.to_csv(new_file_path, index=True)\n",
    "\n"
   ]
  },
  {
   "cell_type": "code",
   "execution_count": null,
   "id": "7e6c5498",
   "metadata": {},
   "outputs": [],
   "source": [
    "video_names = [\"down\", \"flip table\", \"pinch\", \"rotate\", \"rotate2\", \"spin\", \"spread\", \"swipe\", \"swipe2\", \"up\", \"idle\"]\n",
    "\n",
    "for name in video_names:\n",
    "    frames_file_path = f\"C:/AAA Sophia/Uni/Semester 7/ML/csv_results/{name}.csv\"\n",
    "    elan_annotation_file_path = f\"C:/AAA Sophia/Uni/Semester 7/ML/Videos Gestenerkennung ML/{name}.txt\"\n",
    "    new_file_path = f\"C:/AAA Sophia/Uni/Semester 7/ML/csv_with_ground_truth/{name}_with_ground_truth.csv\"\n",
    "    make_csv_with_ground_truth(frames_file_path, elan_annotation_file_path, new_file_path)"
   ]
  }
 ],
 "metadata": {
  "kernelspec": {
   "display_name": "Python 3.10.10 64-bit",
   "language": "python",
   "name": "python3"
  },
  "language_info": {
   "codemirror_mode": {
    "name": "ipython",
    "version": 3
   },
   "file_extension": ".py",
   "mimetype": "text/x-python",
   "name": "python",
   "nbconvert_exporter": "python",
   "pygments_lexer": "ipython3",
   "version": "3.10.10"
  },
  "vscode": {
   "interpreter": {
    "hash": "26de051ba29f2982a8de78e945f0abaf191376122a1563185a90213a26c5da77"
   }
  }
 },
 "nbformat": 4,
 "nbformat_minor": 5
}
